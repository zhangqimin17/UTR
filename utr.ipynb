{
 "cells": [
  {
   "cell_type": "code",
   "execution_count": 1,
   "metadata": {},
   "outputs": [],
   "source": [
    "import logging\n",
    "import os\n",
    "\n",
    "import matplotlib.pyplot as plt\n",
    "import numpy as np\n",
    "import pandas as pd\n",
    "import seaborn as sns\n",
    "import torch\n",
    "from torch.distributions import constraints\n",
    "\n",
    "from operator import mul    # or mul=lambda x,y:x*y\n",
    "from fractions import Fraction\n",
    "import functools \n",
    "\n",
    "from sklearn.model_selection import train_test_split\n",
    "\n",
    "import pyro\n",
    "from torch.distributions import constraints\n",
    "from torch.autograd import Variable\n",
    "import pyro.distributions as dist\n",
    "import pyro.optim as optim\n",
    "\n",
    "pyro.set_rng_seed(1)\n",
    "assert pyro.__version__.startswith('1.4.0')\n",
    "\n",
    "from utils import *\n",
    "from eval_metrics import *\n",
    "from GaussianMF import run_gaussian_mf"
   ]
  },
  {
   "cell_type": "code",
   "execution_count": 2,
   "metadata": {},
   "outputs": [],
   "source": [
    "%matplotlib inline\n",
    "plt.style.use('default')\n",
    "\n",
    "logging.basicConfig(format='%(message)s', level=logging.INFO)\n",
    "# Enable validation checks\n",
    "pyro.enable_validation(True)\n",
    "smoke_test = ('CI' in os.environ)\n",
    "pyro.set_rng_seed(1)"
   ]
  },
  {
   "cell_type": "code",
   "execution_count": 3,
   "metadata": {},
   "outputs": [],
   "source": [
    "data = pd.read_csv(\"utr_train_UPDATED.csv\", index_col=\"resultid\")"
   ]
  },
  {
   "cell_type": "code",
   "execution_count": 4,
   "metadata": {},
   "outputs": [
    {
     "data": {
      "text/plain": [
       "1146"
      ]
     },
     "execution_count": 4,
     "metadata": {},
     "output_type": "execute_result"
    }
   ],
   "source": [
    "# unique players\n",
    "len(data.winnerid.append(data.loserid).unique())"
   ]
  },
  {
   "cell_type": "code",
   "execution_count": 5,
   "metadata": {},
   "outputs": [
    {
     "data": {
      "text/plain": [
       "array(['2019-05', '2019-03', '2019-11', '2019-10', '2019-09', '2019-08',\n",
       "       '2019-01', '2019-07', '2019-02', '2019-12', '2019-06', '2019-04'],\n",
       "      dtype=object)"
      ]
     },
     "execution_count": 5,
     "metadata": {},
     "output_type": "execute_result"
    }
   ],
   "source": [
    "data.resultmonth.unique()"
   ]
  },
  {
   "cell_type": "code",
   "execution_count": 6,
   "metadata": {},
   "outputs": [],
   "source": [
    "data[\"year\"] = data.resultmonth.apply(extract_year)\n",
    "data[\"month\"] = data.resultmonth.apply(extract_month)"
   ]
  },
  {
   "cell_type": "code",
   "execution_count": 7,
   "metadata": {},
   "outputs": [],
   "source": [
    "data[\"matchtype\"] = data.apply(match_type, axis=1)"
   ]
  },
  {
   "cell_type": "code",
   "execution_count": 8,
   "metadata": {},
   "outputs": [
    {
     "data": {
      "text/plain": [
       "BO3    4374\n",
       "BO5     178\n",
       "Name: matchtype, dtype: int64"
      ]
     },
     "execution_count": 8,
     "metadata": {},
     "output_type": "execute_result"
    }
   ],
   "source": [
    "# most of the matches are BO3\n",
    "data.matchtype.value_counts()"
   ]
  },
  {
   "cell_type": "code",
   "execution_count": 9,
   "metadata": {},
   "outputs": [],
   "source": [
    "data[\"set1\"] = data.apply(set_result, set_num=1, axis=1)\n",
    "data[\"set2\"] = data.apply(set_result, set_num=2, axis=1)\n",
    "data[\"set3\"] = data.apply(set_result, set_num=3, axis=1)\n",
    "data[\"set4\"] = data.apply(set_result, set_num=4, axis=1)\n",
    "data[\"set5\"] = data.apply(set_result, set_num=5, axis=1)\n",
    "data = data[[\"winnerid\",\"loserid\",\"year\",\"month\",\"matchtype\",\"set1\",\"set2\",\"set3\",\"set4\",\"set5\"]]"
   ]
  },
  {
   "cell_type": "code",
   "execution_count": 10,
   "metadata": {},
   "outputs": [],
   "source": [
    "#['6-0', '6-1', '6-2', '6-3', '6-4', '7-5', '7-6']\n",
    "\n",
    "game_prob_dict = {}\n",
    "for set_result in np.unique(data[['set1','set2','set3','set4','set5']].values):\n",
    "    ls = set_result.split('-')\n",
    "    ls = [int(i) for i in ls]\n",
    "    n = ls[0] + ls[1]\n",
    "    k = ls[0]\n",
    "    \n",
    "    prob_dict = {}\n",
    "    for p in [p/100 for p in range(0,101)]:\n",
    "        prob_dict[p] = binomial(n,k,p)\n",
    "    \n",
    "    game_prob_dict[set_result] = max(prob_dict, key=prob_dict.get)"
   ]
  },
  {
   "cell_type": "code",
   "execution_count": 11,
   "metadata": {},
   "outputs": [],
   "source": [
    "data['game_win_prob'] = data.apply(get_game_win_prob, game_prob_dict=game_prob_dict, axis=1)\n",
    "data['set_win_prob'] = data.game_win_prob.apply(set_win_prob)\n",
    "data['match_win_prob'] = data.game_win_prob.apply(match_win_prob)"
   ]
  },
  {
   "cell_type": "code",
   "execution_count": 12,
   "metadata": {},
   "outputs": [],
   "source": [
    "data = data.rename(columns={\"winnerid\": \"player1id\", \"loserid\": \"player2id\"}, errors=\"raise\")"
   ]
  },
  {
   "cell_type": "code",
   "execution_count": 13,
   "metadata": {},
   "outputs": [],
   "source": [
    "data = data[['player1id','player2id','year','month','matchtype','match_win_prob']]\n",
    "#data['player1_win'] = 1\n",
    "data = data.append(data.apply(reverse_result, axis=1))"
   ]
  },
  {
   "cell_type": "code",
   "execution_count": 14,
   "metadata": {},
   "outputs": [],
   "source": [
    "train, test = train_test_split(data, test_size=0.2, random_state=42)\n",
    "train_matrix = train.groupby(['player1id','player2id']).agg({'match_win_prob': lambda x: x.mean(skipna=True)}).reset_index().pivot(index='player1id', columns='player2id', values='match_win_prob')"
   ]
  },
  {
   "cell_type": "code",
   "execution_count": null,
   "metadata": {},
   "outputs": [],
   "source": [
    "loss_list, mae_list = run_gaussian_mf(train_matrix, train, test, k=50, method=\"svi\", mae_tol=0.03)"
   ]
  }
 ],
 "metadata": {
  "kernelspec": {
   "display_name": "Python 3",
   "language": "python",
   "name": "python3"
  },
  "language_info": {
   "codemirror_mode": {
    "name": "ipython",
    "version": 3
   },
   "file_extension": ".py",
   "mimetype": "text/x-python",
   "name": "python",
   "nbconvert_exporter": "python",
   "pygments_lexer": "ipython3",
   "version": "3.7.6"
  }
 },
 "nbformat": 4,
 "nbformat_minor": 4
}
