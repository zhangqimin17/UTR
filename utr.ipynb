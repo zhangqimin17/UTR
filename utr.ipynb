{
 "cells": [
  {
   "cell_type": "code",
   "execution_count": 16,
   "metadata": {},
   "outputs": [],
   "source": [
    "import logging\n",
    "import os\n",
    "\n",
    "import matplotlib.pyplot as plt\n",
    "import numpy as np\n",
    "import pandas as pd\n",
    "import seaborn as sns\n",
    "import torch\n",
    "from torch.distributions import constraints\n",
    "\n",
    "from operator import mul    # or mul=lambda x,y:x*y\n",
    "from fractions import Fraction\n",
    "import functools \n",
    "\n",
    "from sklearn.model_selection import train_test_split\n",
    "\n",
    "import pyro\n",
    "from torch.distributions import constraints\n",
    "from torch.autograd import Variable\n",
    "import pyro.distributions as dist\n",
    "import pyro.optim as optim\n",
    "\n",
    "pyro.set_rng_seed(1)\n",
    "assert pyro.__version__.startswith('1.4.0')\n",
    "\n",
    "from utils import *\n",
    "from eval_metrics import *\n",
    "from GaussianMF import run_gaussian_mf"
   ]
  },
  {
   "cell_type": "code",
   "execution_count": 17,
   "metadata": {},
   "outputs": [],
   "source": [
    "%matplotlib inline\n",
    "plt.style.use('default')\n",
    "\n",
    "logging.basicConfig(format='%(message)s', level=logging.INFO)\n",
    "# Enable validation checks\n",
    "pyro.enable_validation(True)\n",
    "smoke_test = ('CI' in os.environ)\n",
    "pyro.set_rng_seed(1)"
   ]
  },
  {
   "cell_type": "code",
   "execution_count": 18,
   "metadata": {},
   "outputs": [],
   "source": [
    "data = pd.read_csv(\"utr_train_UPDATED.csv\", index_col=\"resultid\")"
   ]
  },
  {
   "cell_type": "code",
   "execution_count": 19,
   "metadata": {},
   "outputs": [
    {
     "data": {
      "text/plain": [
       "1146"
      ]
     },
     "execution_count": 19,
     "metadata": {},
     "output_type": "execute_result"
    }
   ],
   "source": [
    "# unique players\n",
    "len(data.winnerid.append(data.loserid).unique())"
   ]
  },
  {
   "cell_type": "code",
   "execution_count": 20,
   "metadata": {},
   "outputs": [
    {
     "data": {
      "text/plain": [
       "array(['2019-05', '2019-03', '2019-11', '2019-10', '2019-09', '2019-08',\n",
       "       '2019-01', '2019-07', '2019-02', '2019-12', '2019-06', '2019-04'],\n",
       "      dtype=object)"
      ]
     },
     "execution_count": 20,
     "metadata": {},
     "output_type": "execute_result"
    }
   ],
   "source": [
    "data.resultmonth.unique()"
   ]
  },
  {
   "cell_type": "code",
   "execution_count": 21,
   "metadata": {},
   "outputs": [],
   "source": [
    "data[\"year\"] = data.resultmonth.apply(extract_year)\n",
    "data[\"month\"] = data.resultmonth.apply(extract_month)"
   ]
  },
  {
   "cell_type": "code",
   "execution_count": 22,
   "metadata": {},
   "outputs": [],
   "source": [
    "data[\"matchtype\"] = data.apply(match_type, axis=1)"
   ]
  },
  {
   "cell_type": "code",
   "execution_count": 23,
   "metadata": {},
   "outputs": [
    {
     "data": {
      "text/plain": [
       "BO3    4374\n",
       "BO5     178\n",
       "Name: matchtype, dtype: int64"
      ]
     },
     "execution_count": 23,
     "metadata": {},
     "output_type": "execute_result"
    }
   ],
   "source": [
    "# most of the matches are BO3\n",
    "data.matchtype.value_counts()"
   ]
  },
  {
   "cell_type": "code",
   "execution_count": 24,
   "metadata": {},
   "outputs": [],
   "source": [
    "data[\"set1\"] = data.apply(set_result, set_num=1, axis=1)\n",
    "data[\"set2\"] = data.apply(set_result, set_num=2, axis=1)\n",
    "data[\"set3\"] = data.apply(set_result, set_num=3, axis=1)\n",
    "data[\"set4\"] = data.apply(set_result, set_num=4, axis=1)\n",
    "data[\"set5\"] = data.apply(set_result, set_num=5, axis=1)\n",
    "data = data[[\"winnerid\",\"loserid\",\"year\",\"month\",\"matchtype\",\"set1\",\"set2\",\"set3\",\"set4\",\"set5\"]]"
   ]
  },
  {
   "cell_type": "code",
   "execution_count": 25,
   "metadata": {},
   "outputs": [],
   "source": [
    "#['6-0', '6-1', '6-2', '6-3', '6-4', '7-5', '7-6']\n",
    "game_prob_dict = {}\n",
    "for set_result in np.unique(data[['set1','set2','set3','set4','set5']].values):\n",
    "    ls = set_result.split('-')\n",
    "    ls = [int(i) for i in ls]\n",
    "    n = ls[0] + ls[1]\n",
    "    k = ls[0]\n",
    "    \n",
    "    prob_dict = {}\n",
    "    for p in [p/100 for p in range(0,101)]:\n",
    "        prob_dict[p] = binomial(n,k,p)\n",
    "    \n",
    "    game_prob_dict[set_result] = max(prob_dict, key=prob_dict.get)"
   ]
  },
  {
   "cell_type": "code",
   "execution_count": 26,
   "metadata": {},
   "outputs": [],
   "source": [
    "data['game_win_prob'] = data.apply(get_game_win_prob, game_prob_dict=game_prob_dict, axis=1)\n",
    "data['set_win_prob'] = data.game_win_prob.apply(set_win_prob)\n",
    "data['match_win_prob'] = data.game_win_prob.apply(match_win_prob)"
   ]
  },
  {
   "cell_type": "code",
   "execution_count": 27,
   "metadata": {},
   "outputs": [],
   "source": [
    "data = data.rename(columns={\"winnerid\": \"player1id\", \"loserid\": \"player2id\"}, errors=\"raise\")"
   ]
  },
  {
   "cell_type": "code",
   "execution_count": 28,
   "metadata": {},
   "outputs": [],
   "source": [
    "data = data[['player1id','player2id','year','month','matchtype','match_win_prob']]\n",
    "data = data.append(data.apply(reverse_result, axis=1))"
   ]
  },
  {
   "cell_type": "code",
   "execution_count": 29,
   "metadata": {},
   "outputs": [
    {
     "data": {
      "text/html": [
       "<div>\n",
       "<style scoped>\n",
       "    .dataframe tbody tr th:only-of-type {\n",
       "        vertical-align: middle;\n",
       "    }\n",
       "\n",
       "    .dataframe tbody tr th {\n",
       "        vertical-align: top;\n",
       "    }\n",
       "\n",
       "    .dataframe thead th {\n",
       "        text-align: right;\n",
       "    }\n",
       "</style>\n",
       "<table border=\"1\" class=\"dataframe\">\n",
       "  <thead>\n",
       "    <tr style=\"text-align: right;\">\n",
       "      <th></th>\n",
       "      <th>player1id</th>\n",
       "      <th>player2id</th>\n",
       "      <th>year</th>\n",
       "      <th>month</th>\n",
       "      <th>matchtype</th>\n",
       "      <th>match_win_prob</th>\n",
       "    </tr>\n",
       "    <tr>\n",
       "      <th>resultid</th>\n",
       "      <th></th>\n",
       "      <th></th>\n",
       "      <th></th>\n",
       "      <th></th>\n",
       "      <th></th>\n",
       "      <th></th>\n",
       "    </tr>\n",
       "  </thead>\n",
       "  <tbody>\n",
       "    <tr>\n",
       "      <th>1</th>\n",
       "      <td>57529</td>\n",
       "      <td>3765</td>\n",
       "      <td>2019</td>\n",
       "      <td>5</td>\n",
       "      <td>BO3</td>\n",
       "      <td>0.611425</td>\n",
       "    </tr>\n",
       "    <tr>\n",
       "      <th>2</th>\n",
       "      <td>83218</td>\n",
       "      <td>3871</td>\n",
       "      <td>2019</td>\n",
       "      <td>3</td>\n",
       "      <td>BO3</td>\n",
       "      <td>0.802313</td>\n",
       "    </tr>\n",
       "    <tr>\n",
       "      <th>4</th>\n",
       "      <td>4021</td>\n",
       "      <td>4487</td>\n",
       "      <td>2019</td>\n",
       "      <td>11</td>\n",
       "      <td>BO3</td>\n",
       "      <td>0.549905</td>\n",
       "    </tr>\n",
       "    <tr>\n",
       "      <th>5</th>\n",
       "      <td>1984892</td>\n",
       "      <td>411593</td>\n",
       "      <td>2019</td>\n",
       "      <td>10</td>\n",
       "      <td>BO3</td>\n",
       "      <td>0.795037</td>\n",
       "    </tr>\n",
       "    <tr>\n",
       "      <th>7</th>\n",
       "      <td>52294</td>\n",
       "      <td>224678</td>\n",
       "      <td>2019</td>\n",
       "      <td>9</td>\n",
       "      <td>BO3</td>\n",
       "      <td>0.849895</td>\n",
       "    </tr>\n",
       "    <tr>\n",
       "      <th>...</th>\n",
       "      <td>...</td>\n",
       "      <td>...</td>\n",
       "      <td>...</td>\n",
       "      <td>...</td>\n",
       "      <td>...</td>\n",
       "      <td>...</td>\n",
       "    </tr>\n",
       "    <tr>\n",
       "      <th>6541</th>\n",
       "      <td>2602428</td>\n",
       "      <td>11767</td>\n",
       "      <td>2019</td>\n",
       "      <td>1</td>\n",
       "      <td>BO3</td>\n",
       "      <td>0.676784</td>\n",
       "    </tr>\n",
       "    <tr>\n",
       "      <th>6542</th>\n",
       "      <td>1945656</td>\n",
       "      <td>162815</td>\n",
       "      <td>2019</td>\n",
       "      <td>7</td>\n",
       "      <td>BO3</td>\n",
       "      <td>0.370455</td>\n",
       "    </tr>\n",
       "    <tr>\n",
       "      <th>6544</th>\n",
       "      <td>4464</td>\n",
       "      <td>3458</td>\n",
       "      <td>2019</td>\n",
       "      <td>9</td>\n",
       "      <td>BO3</td>\n",
       "      <td>0.258908</td>\n",
       "    </tr>\n",
       "    <tr>\n",
       "      <th>6546</th>\n",
       "      <td>11161</td>\n",
       "      <td>74588</td>\n",
       "      <td>2019</td>\n",
       "      <td>3</td>\n",
       "      <td>BO3</td>\n",
       "      <td>0.176559</td>\n",
       "    </tr>\n",
       "    <tr>\n",
       "      <th>6548</th>\n",
       "      <td>3746</td>\n",
       "      <td>67623</td>\n",
       "      <td>2019</td>\n",
       "      <td>3</td>\n",
       "      <td>BO3</td>\n",
       "      <td>0.506250</td>\n",
       "    </tr>\n",
       "  </tbody>\n",
       "</table>\n",
       "<p>9104 rows × 6 columns</p>\n",
       "</div>"
      ],
      "text/plain": [
       "          player1id  player2id  year  month matchtype  match_win_prob\n",
       "resultid                                                             \n",
       "1             57529       3765  2019      5       BO3        0.611425\n",
       "2             83218       3871  2019      3       BO3        0.802313\n",
       "4              4021       4487  2019     11       BO3        0.549905\n",
       "5           1984892     411593  2019     10       BO3        0.795037\n",
       "7             52294     224678  2019      9       BO3        0.849895\n",
       "...             ...        ...   ...    ...       ...             ...\n",
       "6541        2602428      11767  2019      1       BO3        0.676784\n",
       "6542        1945656     162815  2019      7       BO3        0.370455\n",
       "6544           4464       3458  2019      9       BO3        0.258908\n",
       "6546          11161      74588  2019      3       BO3        0.176559\n",
       "6548           3746      67623  2019      3       BO3        0.506250\n",
       "\n",
       "[9104 rows x 6 columns]"
      ]
     },
     "execution_count": 29,
     "metadata": {},
     "output_type": "execute_result"
    }
   ],
   "source": [
    "data"
   ]
  },
  {
   "cell_type": "code",
   "execution_count": 30,
   "metadata": {},
   "outputs": [],
   "source": [
    "train, test = train_test_split(data, test_size=0.2, random_state=42)\n",
    "train_matrix = train.groupby(['player1id','player2id']).agg({'match_win_prob': lambda x: x.mean(skipna=True)}).reset_index().pivot(index='player1id', columns='player2id', values='match_win_prob')"
   ]
  },
  {
   "cell_type": "code",
   "execution_count": null,
   "metadata": {},
   "outputs": [],
   "source": [
    "loss_list, mae_list = run_gaussian_mf(train_matrix, train, test, k=50, mae_tol=0.03)"
   ]
  }
 ],
 "metadata": {
  "kernelspec": {
   "display_name": "Python 3",
   "language": "python",
   "name": "python3"
  },
  "language_info": {
   "codemirror_mode": {
    "name": "ipython",
    "version": 3
   },
   "file_extension": ".py",
   "mimetype": "text/x-python",
   "name": "python",
   "nbconvert_exporter": "python",
   "pygments_lexer": "ipython3",
   "version": "3.7.6"
  }
 },
 "nbformat": 4,
 "nbformat_minor": 4
}
